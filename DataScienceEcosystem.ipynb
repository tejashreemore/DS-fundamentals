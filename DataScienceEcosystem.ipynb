{
 "cells": [
  {
   "cell_type": "markdown",
   "id": "6ae0b0a7-fa32-4b3f-98b9-9bffd4fcd2f9",
   "metadata": {},
   "source": [
    "# Data Science Tools and Ecosystem"
   ]
  },
  {
   "cell_type": "markdown",
   "id": "7ed7647b-ee78-4655-b10c-7f5218731651",
   "metadata": {},
   "source": [
    "In this notebook, Data Science Tools and Ecosystem are summarized."
   ]
  },
  {
   "cell_type": "markdown",
   "id": "ca638e32-62ab-4a11-9076-5b29437485e5",
   "metadata": {},
   "source": [
    "Some of the popular languages that Data Scientists use are:\n",
    "1. Python Programming\n",
    "2. R\n",
    "3. SQL"
   ]
  },
  {
   "cell_type": "markdown",
   "id": "47a84bcb-55fd-482d-b3b3-61868dd1f740",
   "metadata": {},
   "source": [
    "Some of the commonly used libraries used by Data Scientists include:\n",
    "\n",
    "1. Pandas\n",
    "2. ggplot\n",
    "3. numpy\n",
    "4. sklearn"
   ]
  },
  {
   "cell_type": "markdown",
   "id": "790f74b1-ad51-4cca-a7c8-107126f94e26",
   "metadata": {},
   "source": [
    "Data Science Tools\n",
    "\n",
    "1. Tensorflow\n",
    "2. Keras\n",
    "3. Jupyter\n",
    "4. Excel\n",
    "5. Apache Spark"
   ]
  },
  {
   "cell_type": "markdown",
   "id": "7e176267-82be-43de-a909-4dfe4129c55e",
   "metadata": {},
   "source": [
    "### Below are a few examples of evaluating arithmetic expressions in Python"
   ]
  },
  {
   "cell_type": "code",
   "execution_count": 1,
   "id": "101043a2-a48c-4cc1-a877-d8c85072b046",
   "metadata": {},
   "outputs": [
    {
     "data": {
      "text/plain": [
       "17"
      ]
     },
     "execution_count": 1,
     "metadata": {},
     "output_type": "execute_result"
    }
   ],
   "source": [
    "#This a simple arithmetic expression to multiply then add integers\n",
    "(3*4)+5"
   ]
  },
  {
   "cell_type": "code",
   "execution_count": 2,
   "id": "a165427f-0388-40ea-9124-640fa26719ee",
   "metadata": {},
   "outputs": [
    {
     "data": {
      "text/plain": [
       "3.3333333333333335"
      ]
     },
     "execution_count": 2,
     "metadata": {},
     "output_type": "execute_result"
    }
   ],
   "source": [
    "#This will convert 200 minutes to hours by diving by 60\n",
    "200/60"
   ]
  },
  {
   "cell_type": "markdown",
   "id": "b3ec50fd-c483-4f20-abc5-826a922a6a7d",
   "metadata": {},
   "source": [
    "Objectives:\n",
    "\n",
    "* List popular languages for Data Science\n",
    "* List popular libraries for Data Science\n",
    "* List popular tools for Data Science\n",
    "* Examples of evaluating arithmetic expressions in Python\n"
   ]
  },
  {
   "cell_type": "markdown",
   "id": "471004d9-7888-4c3b-8b54-df302b226012",
   "metadata": {},
   "source": [
    "## Author\n",
    "Tejashree More"
   ]
  },
  {
   "cell_type": "code",
   "execution_count": null,
   "id": "8b8babf6-1b6f-459c-a04a-1002a829e258",
   "metadata": {},
   "outputs": [],
   "source": []
  }
 ],
 "metadata": {
  "kernelspec": {
   "display_name": "Python 3 (ipykernel)",
   "language": "python",
   "name": "python3"
  },
  "language_info": {
   "codemirror_mode": {
    "name": "ipython",
    "version": 3
   },
   "file_extension": ".py",
   "mimetype": "text/x-python",
   "name": "python",
   "nbconvert_exporter": "python",
   "pygments_lexer": "ipython3",
   "version": "3.12.8"
  }
 },
 "nbformat": 4,
 "nbformat_minor": 5
}
